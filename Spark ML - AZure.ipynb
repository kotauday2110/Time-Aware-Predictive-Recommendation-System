{
 "cells": [
  {
   "cell_type": "code",
   "execution_count": 0,
   "metadata": {
    "application/vnd.databricks.v1+cell": {
     "cellMetadata": {},
     "inputWidgets": {},
     "nuid": "0acdf6e5-d3bc-4c31-99e6-81e3e2d7d237",
     "showTitle": false,
     "tableResultSettingsMap": {},
     "title": ""
    },
    "trusted": true
   },
   "outputs": [],
   "source": [
    "train_rf_df = spark.read.format(\"csv\") \\\n",
    "                .option(\"header\", True) \\\n",
    "                .option(\"inferSchema\", True) \\\n",
    "                .load(\"abfss://rawdata@udaystorage.dfs.core.windows.net/trends/df_train4.csv\")\n",
    "\n",
    "\n",
    "\n"
   ]
  },
  {
   "cell_type": "code",
   "execution_count": 0,
   "metadata": {
    "application/vnd.databricks.v1+cell": {
     "cellMetadata": {},
     "inputWidgets": {},
     "nuid": "9edb473d-c2f1-439d-963c-8cef03517464",
     "showTitle": false,
     "tableResultSettingsMap": {},
     "title": ""
    },
    "trusted": true
   },
   "outputs": [],
   "source": [
    "x_test = spark.read.format(\"csv\") \\\n",
    "                .option(\"header\", True) \\\n",
    "                .option(\"inferSchema\", True) \\\n",
    "                .load(\"abfss://rawdata@udaystorage.dfs.core.windows.net/trends/df_test.csv\")\n"
   ]
  },
  {
   "cell_type": "code",
   "execution_count": 0,
   "metadata": {
    "application/vnd.databricks.v1+cell": {
     "cellMetadata": {},
     "inputWidgets": {},
     "nuid": "c5716b01-1aae-4454-9606-2fc94edad733",
     "showTitle": false,
     "tableResultSettingsMap": {},
     "title": ""
    },
    "trusted": true
   },
   "outputs": [],
   "source": [
    "from pyspark.ml import Pipeline\n",
    "from pyspark.ml.classification import RandomForestClassifier as RF\n",
    "from pyspark.ml.regression import RandomForestRegressor as RF_reg\n",
    "from pyspark.ml.feature import StringIndexer, VectorIndexer, VectorAssembler, SQLTransformer\n",
    "from pyspark.ml.evaluation import MulticlassClassificationEvaluator, BinaryClassificationEvaluator\n",
    "from pyspark.ml.tuning import CrossValidator, ParamGridBuilder\n",
    "import numpy as np\n",
    "import functools\n",
    "from pyspark.ml.feature import OneHotEncoder\n",
    "#import org.apache.spark.ml.tuning.{CrossValidator, ParamGridBuilder}\n",
    "from pyspark.ml.evaluation import RegressionEvaluator\n"
   ]
  },
  {
   "cell_type": "code",
   "execution_count": 0,
   "metadata": {
    "application/vnd.databricks.v1+cell": {
     "cellMetadata": {},
     "inputWidgets": {},
     "nuid": "d2907ac9-ef40-4bb5-89de-a4da71a8ca3b",
     "showTitle": false,
     "tableResultSettingsMap": {},
     "title": ""
    },
    "trusted": true
   },
   "outputs": [],
   "source": [
    "# prepare labeled sets    Train\n",
    "cols_now = ['user_total_orders', 'user_total_items', 'total_distinct_items',\n",
    "       'user_average_days_between_orders', 'user_average_basket',\n",
    "       'order_hour_of_day', 'days_since_prior_order', 'days_since_ratio',\n",
    "       'aisle_id', 'department_id', 'product_orders', 'product_reorders',\n",
    "       'product_reorder_rate', 'UP_orders', 'UP_orders_ratio',\n",
    "       'UP_average_pos_in_cart', 'UP_reorder_rate', 'UP_orders_since_last',\n",
    "       'UP_delta_hour_vs_last']\n",
    "assembler_features = VectorAssembler(inputCols=cols_now, outputCol='features')\n",
    "label_indexer = StringIndexer(inputCol='label', outputCol='label_double')\n",
    "pipeline_train = Pipeline(stages=[assembler_features, label_indexer])"
   ]
  },
  {
   "cell_type": "code",
   "execution_count": 0,
   "metadata": {
    "application/vnd.databricks.v1+cell": {
     "cellMetadata": {},
     "inputWidgets": {},
     "nuid": "08618b46-f44c-46f4-99a8-25d4b521e0ed",
     "showTitle": false,
     "tableResultSettingsMap": {},
     "title": ""
    },
    "trusted": true
   },
   "outputs": [],
   "source": [
    "# prepare labeled sets     x_test\n",
    "cols_now = ['user_total_orders', 'user_total_items', 'total_distinct_items',\n",
    "       'user_average_days_between_orders', 'user_average_basket',\n",
    "       'order_hour_of_day', 'days_since_prior_order', 'days_since_ratio',\n",
    "       'aisle_id', 'department_id', 'product_orders', 'product_reorders',\n",
    "       'product_reorder_rate', 'UP_orders', 'UP_orders_ratio',\n",
    "       'UP_average_pos_in_cart', 'UP_reorder_rate', 'UP_orders_since_last',\n",
    "       'UP_delta_hour_vs_last']\n",
    "assembler_features = VectorAssembler(inputCols=cols_now, outputCol='features')\n",
    "pipeline_test = Pipeline(stages=[assembler_features])"
   ]
  },
  {
   "cell_type": "code",
   "execution_count": 0,
   "metadata": {
    "application/vnd.databricks.v1+cell": {
     "cellMetadata": {},
     "inputWidgets": {},
     "nuid": "816f53e7-ac98-47d2-9f9f-9a264522c703",
     "showTitle": false,
     "tableResultSettingsMap": {},
     "title": ""
    },
    "trusted": true
   },
   "outputs": [],
   "source": [
    "trainData = pipeline_train.fit(train_rf_df).transform(train_rf_df)\n",
    "\n",
    "testData = pipeline_test.fit(x_test).transform(x_test)"
   ]
  },
  {
   "cell_type": "code",
   "execution_count": 0,
   "metadata": {
    "application/vnd.databricks.v1+cell": {
     "cellMetadata": {},
     "inputWidgets": {},
     "nuid": "fb153ac3-14e1-456c-b863-be9f8e778b8a",
     "showTitle": false,
     "tableResultSettingsMap": {},
     "title": ""
    },
    "trusted": true
   },
   "outputs": [
    {
     "output_type": "stream",
     "name": "stderr",
     "output_type": "stream",
     "text": [
      "Method __init__ forces keyword arguments.\nTraceback (most recent call last):\n  File \"/usr/lib/spark/python/lib/pyspark.zip/pyspark/__init__.py\", line 103, in wrapper\n    raise TypeError(\"Method %s forces keyword arguments.\" % func.__name__)\nTypeError: Method __init__ forces keyword arguments.\n\n"
     ]
    }
   ],
   "source": [
    "#Grid search\n",
    "rf = RF(labelCol='label_double', featuresCol='features')\n",
    "paramGrid = ParamGridBuilder() \\\n",
    "    .addGrid(rf.numTrees, [1, 2]) \\\n",
    "    .addGrid(rf.maxDepth, [2]) \\\n",
    "    .addGrid(rf.maxBins, [2]) \\\n",
    "    .build()\n",
    "pipeline = Pipeline([rf])\n",
    "\n",
    "crossval = CrossValidator(estimator=pipeline,\n",
    "                          estimatorParamMaps=paramGrid,\n",
    "                          evaluator=RegressionEvaluator(),\n",
    "                          numFolds=4)  # use 3+ folds in practice\n"
   ]
  },
  {
   "cell_type": "code",
   "execution_count": 0,
   "metadata": {
    "application/vnd.databricks.v1+cell": {
     "cellMetadata": {},
     "inputWidgets": {},
     "nuid": "0f96de8c-5ad5-4f57-a3cc-7a2ece6328dd",
     "showTitle": false,
     "tableResultSettingsMap": {},
     "title": ""
    },
    "trusted": true
   },
   "outputs": [],
   "source": [
    "cvModel = crossval.fit(training)"
   ]
  },
  {
   "cell_type": "code",
   "execution_count": 0,
   "metadata": {
    "application/vnd.databricks.v1+cell": {
     "cellMetadata": {},
     "inputWidgets": {},
     "nuid": "e54faafa-58df-490b-907a-584a7c069fad",
     "showTitle": false,
     "tableResultSettingsMap": {},
     "title": ""
    },
    "trusted": true
   },
   "outputs": [],
   "source": [
    "rf = RF_reg(labelCol='label_double', featuresCol='features',numTrees=30, maxDepth=10, maxBins=100)\n",
    "fit = rf.fit(trainData)\n",
    "# transformed = fit.transform(testData)"
   ]
  },
  {
   "cell_type": "code",
   "execution_count": 0,
   "metadata": {
    "application/vnd.databricks.v1+cell": {
     "cellMetadata": {},
     "inputWidgets": {},
     "nuid": "2633712e-8f38-496a-b8ae-766e19a95d9f",
     "showTitle": false,
     "tableResultSettingsMap": {},
     "title": ""
    },
    "trusted": true
   },
   "outputs": [],
   "source": [
    "transformed = fit.transform(testData)"
   ]
  },
  {
   "cell_type": "code",
   "execution_count": 0,
   "metadata": {
    "application/vnd.databricks.v1+cell": {
     "cellMetadata": {},
     "inputWidgets": {},
     "nuid": "1b22f232-3ff1-45f8-a326-4a6ba2722884",
     "showTitle": false,
     "tableResultSettingsMap": {},
     "title": ""
    },
    "trusted": true
   },
   "outputs": [
    {
     "output_type": "stream",
     "name": "stdout",
     "output_type": "stream",
     "text": [
      "+---+--------+----------+-----------------+----------------+--------------------+--------------------------------+-------------------+-----------------+----------------------+----------------+--------+-------------+--------------+----------------+--------------------+---------+---------------+----------------------+---------------+--------------------+---------------------+------------------+--------------------+\n|_c0|order_id|product_id|user_total_orders|user_total_items|total_distinct_items|user_average_days_between_orders|user_average_basket|order_hour_of_day|days_since_prior_order|days_since_ratio|aisle_id|department_id|product_orders|product_reorders|product_reorder_rate|UP_orders|UP_orders_ratio|UP_average_pos_in_cart|UP_reorder_rate|UP_orders_since_last|UP_delta_hour_vs_last|              pred|            features|\n+---+--------+----------+-----------------+----------------+--------------------+--------------------------------+-------------------+-----------------+----------------------+----------------+--------+-------------+--------------+----------------+--------------------+---------+---------------+----------------------+---------------+--------------------+---------------------+------------------+--------------------+\n|  0| 2774568|     17668|               13|              88|                  33|                            12.0|           6.769231|               15|                  11.0|       0.9166667|      91|           16|          2110|          1220.0|            0.578199|        5|      0.3846154|                   3.6|      0.3846154|                   2|                    3|0.3228918787898133|[13.0,88.0,33.0,1...|\n|  1| 2774568|     44683|               13|              88|                  33|                            12.0|           6.769231|               15|                  11.0|       0.9166667|      83|            4|         22275|         11981.0|          0.53786755|        2|     0.15384616|                   9.5|     0.15384616|                   7|                    1| 0.082390009405112|[13.0,88.0,33.0,1...|\n+---+--------+----------+-----------------+----------------+--------------------+--------------------------------+-------------------+-----------------+----------------------+----------------+--------+-------------+--------------+----------------+--------------------+---------+---------------+----------------------+---------------+--------------------+---------------------+------------------+--------------------+\nonly showing top 2 rows"
     ]
    }
   ],
   "source": [
    "testData.show(2)"
   ]
  },
  {
   "cell_type": "code",
   "execution_count": 0,
   "metadata": {
    "application/vnd.databricks.v1+cell": {
     "cellMetadata": {},
     "inputWidgets": {},
     "nuid": "b757b47f-6ad0-46cd-992a-11e6aba4e9c5",
     "showTitle": false,
     "tableResultSettingsMap": {},
     "title": ""
    },
    "trusted": true
   },
   "outputs": [],
   "source": [
    "result = transformed.select(['order_id', 'product_id', 'pred'])"
   ]
  },
  {
   "cell_type": "code",
   "execution_count": 0,
   "metadata": {
    "application/vnd.databricks.v1+cell": {
     "cellMetadata": {},
     "inputWidgets": {},
     "nuid": "66df4bc4-84a3-4e70-8b10-925221744239",
     "showTitle": false,
     "tableResultSettingsMap": {},
     "title": ""
    },
    "trusted": true
   },
   "outputs": [
    {
     "output_type": "stream",
     "name": "stderr",
     "output_type": "stream",
     "text": [
      "No module named boto3\nTraceback (most recent call last):\nImportError: No module named boto3\n\n"
     ]
    }
   ],
   "source": [
    "from io import StringIO\n",
    "from azure.storage.blob import BlobServiceClient\n",
    "\n",
    "csv_buffer = StringIO()\n",
    "result.to_csv(csv_buffer, index=False)\n",
    "\n",
    "storage_account_name = \"udaystorage\"\n",
    "container_name = \"rawdata\"\n",
    "blob_name = \"df.csv\"\n",
    "\n",
    "connection_string = \"DefaultEndpointsProtocol=https;AccountName=udaystorage;AccountKey=AbC123XyZ890RandomKeyHere9876543210==;EndpointSuffix=core.windows.net\"\n",
    "\n",
    "blob_service_client = BlobServiceClient.from_connection_string(connection_string)\n",
    "blob_client = blob_service_client.get_blob_client(container=container_name, blob=blob_name)\n",
    "blob_client.upload_blob(csv_buffer.getvalue(), overwrite=True)\n"
   ]
  },
  {
   "cell_type": "code",
   "execution_count": 0,
   "metadata": {
    "application/vnd.databricks.v1+cell": {
     "cellMetadata": {},
     "inputWidgets": {},
     "nuid": "6bbccbda-c1ae-446b-a044-3be3174210ce",
     "showTitle": false,
     "tableResultSettingsMap": {},
     "title": ""
    },
    "trusted": true
   },
   "outputs": [],
   "source": [
    "result.write.format(\"csv\").option(\"header\", \"true\").save(\"abfss://rawdata@udaystorage.dfs.core.windows.net/trends/file.csv\")\n"
   ]
  }
 ],
 "metadata": {
  "application/vnd.databricks.v1+notebook": {
   "computePreferences": null,
   "dashboards": [],
   "environmentMetadata": null,
   "inputWidgetPreferences": null,
   "language": "python",
   "notebookMetadata": {
    "pythonIndentUnit": 4
   },
   "notebookName": "Spark ML - AZure",
   "widgets": {}
  },
  "kernelspec": {
   "display_name": "PySpark",
   "language": "",
   "name": "pysparkkernel"
  },
  "language_info": {
   "codemirror_mode": {
    "name": "python",
    "version": 2
   },
   "mimetype": "text/x-python",
   "name": "pyspark",
   "pygments_lexer": "python2"
  }
 },
 "nbformat": 4,
 "nbformat_minor": 0
}